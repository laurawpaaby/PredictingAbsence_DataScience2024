{
 "cells": [
  {
   "cell_type": "code",
   "execution_count": null,
   "metadata": {},
   "outputs": [],
   "source": [
    "## Data preprocessing: Adding number of contacts"
   ]
  },
  {
   "cell_type": "code",
   "execution_count": 1,
   "metadata": {
    "metadata": {}
   },
   "outputs": [],
   "source": [
    "import pandas as pd \n",
    "import numpy as np"
   ]
  },
  {
   "cell_type": "code",
   "execution_count": 2,
   "metadata": {
    "metadata": {}
   },
   "outputs": [
    {
     "data": {
      "text/html": [
       "<div>\n",
       "<style scoped>\n",
       "    .dataframe tbody tr th:only-of-type {\n",
       "        vertical-align: middle;\n",
       "    }\n",
       "\n",
       "    .dataframe tbody tr th {\n",
       "        vertical-align: top;\n",
       "    }\n",
       "\n",
       "    .dataframe thead th {\n",
       "        text-align: right;\n",
       "    }\n",
       "</style>\n",
       "<table border=\"1\" class=\"dataframe\">\n",
       "  <thead>\n",
       "    <tr style=\"text-align: right;\">\n",
       "      <th></th>\n",
       "      <th>LoenafdelingNiveau2Tekst</th>\n",
       "      <th>Aldersgruppe</th>\n",
       "      <th>Stilling_niv1</th>\n",
       "      <th>Fravaeraarsag_gruppe</th>\n",
       "      <th>Koen</th>\n",
       "      <th>Antal_Timer</th>\n",
       "      <th>Antal_Personer</th>\n",
       "      <th>Timestamp</th>\n",
       "      <th>Year</th>\n",
       "      <th>Month</th>\n",
       "      <th>Day</th>\n",
       "      <th>is_weekend</th>\n",
       "      <th>weekday</th>\n",
       "      <th>is_holiday</th>\n",
       "      <th>is_school_holiday</th>\n",
       "      <th>Antal_timer_yesterday</th>\n",
       "      <th>Antal_Loentimer</th>\n",
       "    </tr>\n",
       "  </thead>\n",
       "  <tbody>\n",
       "    <tr>\n",
       "      <th>0</th>\n",
       "      <td>Akutafdelingen (SR_FAME)</td>\n",
       "      <td>20-30</td>\n",
       "      <td>Lægepersonale (8M_01)</td>\n",
       "      <td>Sygefravær</td>\n",
       "      <td>Kvinde</td>\n",
       "      <td>26.0</td>\n",
       "      <td>2</td>\n",
       "      <td>2021-01-02</td>\n",
       "      <td>2021</td>\n",
       "      <td>1</td>\n",
       "      <td>2</td>\n",
       "      <td>1</td>\n",
       "      <td>5</td>\n",
       "      <td>0</td>\n",
       "      <td>0</td>\n",
       "      <td>10.0</td>\n",
       "      <td>1173.233835</td>\n",
       "    </tr>\n",
       "    <tr>\n",
       "      <th>1</th>\n",
       "      <td>Akutafdelingen (SR_FAME)</td>\n",
       "      <td>20-30</td>\n",
       "      <td>Lægepersonale (8M_01)</td>\n",
       "      <td>Sygefravær</td>\n",
       "      <td>Kvinde</td>\n",
       "      <td>0.0</td>\n",
       "      <td>1</td>\n",
       "      <td>2021-01-03</td>\n",
       "      <td>2021</td>\n",
       "      <td>1</td>\n",
       "      <td>3</td>\n",
       "      <td>1</td>\n",
       "      <td>6</td>\n",
       "      <td>0</td>\n",
       "      <td>0</td>\n",
       "      <td>26.0</td>\n",
       "      <td>1173.233835</td>\n",
       "    </tr>\n",
       "    <tr>\n",
       "      <th>2</th>\n",
       "      <td>Akutafdelingen (SR_FAME)</td>\n",
       "      <td>20-30</td>\n",
       "      <td>Lægepersonale (8M_01)</td>\n",
       "      <td>Sygefravær</td>\n",
       "      <td>Kvinde</td>\n",
       "      <td>10.0</td>\n",
       "      <td>1</td>\n",
       "      <td>2021-01-04</td>\n",
       "      <td>2021</td>\n",
       "      <td>1</td>\n",
       "      <td>4</td>\n",
       "      <td>0</td>\n",
       "      <td>0</td>\n",
       "      <td>0</td>\n",
       "      <td>0</td>\n",
       "      <td>0.0</td>\n",
       "      <td>1173.233835</td>\n",
       "    </tr>\n",
       "    <tr>\n",
       "      <th>3</th>\n",
       "      <td>Akutafdelingen (SR_FAME)</td>\n",
       "      <td>20-30</td>\n",
       "      <td>Lægepersonale (8M_01)</td>\n",
       "      <td>Sygefravær</td>\n",
       "      <td>Kvinde</td>\n",
       "      <td>10.0</td>\n",
       "      <td>1</td>\n",
       "      <td>2021-01-10</td>\n",
       "      <td>2021</td>\n",
       "      <td>1</td>\n",
       "      <td>10</td>\n",
       "      <td>1</td>\n",
       "      <td>6</td>\n",
       "      <td>0</td>\n",
       "      <td>0</td>\n",
       "      <td>10.0</td>\n",
       "      <td>1173.233835</td>\n",
       "    </tr>\n",
       "    <tr>\n",
       "      <th>4</th>\n",
       "      <td>Akutafdelingen (SR_FAME)</td>\n",
       "      <td>20-30</td>\n",
       "      <td>Lægepersonale (8M_01)</td>\n",
       "      <td>Sygefravær</td>\n",
       "      <td>Kvinde</td>\n",
       "      <td>10.0</td>\n",
       "      <td>1</td>\n",
       "      <td>2021-01-19</td>\n",
       "      <td>2021</td>\n",
       "      <td>1</td>\n",
       "      <td>19</td>\n",
       "      <td>0</td>\n",
       "      <td>1</td>\n",
       "      <td>0</td>\n",
       "      <td>0</td>\n",
       "      <td>10.0</td>\n",
       "      <td>1173.233835</td>\n",
       "    </tr>\n",
       "  </tbody>\n",
       "</table>\n",
       "</div>"
      ],
      "text/plain": [
       "   LoenafdelingNiveau2Tekst Aldersgruppe          Stilling_niv1  \\\n",
       "0  Akutafdelingen (SR_FAME)        20-30  Lægepersonale (8M_01)   \n",
       "1  Akutafdelingen (SR_FAME)        20-30  Lægepersonale (8M_01)   \n",
       "2  Akutafdelingen (SR_FAME)        20-30  Lægepersonale (8M_01)   \n",
       "3  Akutafdelingen (SR_FAME)        20-30  Lægepersonale (8M_01)   \n",
       "4  Akutafdelingen (SR_FAME)        20-30  Lægepersonale (8M_01)   \n",
       "\n",
       "  Fravaeraarsag_gruppe    Koen  Antal_Timer  Antal_Personer   Timestamp  Year  \\\n",
       "0           Sygefravær  Kvinde         26.0               2  2021-01-02  2021   \n",
       "1           Sygefravær  Kvinde          0.0               1  2021-01-03  2021   \n",
       "2           Sygefravær  Kvinde         10.0               1  2021-01-04  2021   \n",
       "3           Sygefravær  Kvinde         10.0               1  2021-01-10  2021   \n",
       "4           Sygefravær  Kvinde         10.0               1  2021-01-19  2021   \n",
       "\n",
       "   Month  Day  is_weekend  weekday  is_holiday  is_school_holiday  \\\n",
       "0      1    2           1        5           0                  0   \n",
       "1      1    3           1        6           0                  0   \n",
       "2      1    4           0        0           0                  0   \n",
       "3      1   10           1        6           0                  0   \n",
       "4      1   19           0        1           0                  0   \n",
       "\n",
       "   Antal_timer_yesterday  Antal_Loentimer  \n",
       "0                   10.0      1173.233835  \n",
       "1                   26.0      1173.233835  \n",
       "2                    0.0      1173.233835  \n",
       "3                   10.0      1173.233835  \n",
       "4                   10.0      1173.233835  "
      ]
     },
     "execution_count": 2,
     "metadata": {},
     "output_type": "execute_result"
    }
   ],
   "source": [
    "# Load data\n",
    "data = pd.read_csv(\"./fravær_merge.csv\",sep=\";\")\n",
    "data.head()"
   ]
  },
  {
   "cell_type": "code",
   "execution_count": 3,
   "metadata": {
    "metadata": {}
   },
   "outputs": [
    {
     "data": {
      "text/html": [
       "<div>\n",
       "<style scoped>\n",
       "    .dataframe tbody tr th:only-of-type {\n",
       "        vertical-align: middle;\n",
       "    }\n",
       "\n",
       "    .dataframe tbody tr th {\n",
       "        vertical-align: top;\n",
       "    }\n",
       "\n",
       "    .dataframe thead th {\n",
       "        text-align: right;\n",
       "    }\n",
       "</style>\n",
       "<table border=\"1\" class=\"dataframe\">\n",
       "  <thead>\n",
       "    <tr style=\"text-align: right;\">\n",
       "      <th></th>\n",
       "      <th>Dato_Ind</th>\n",
       "      <th>Nuv_OrgMapSghTekst</th>\n",
       "      <th>Nuv_OrgMapOverAfdTekst</th>\n",
       "      <th>Antal_Kontakter</th>\n",
       "    </tr>\n",
       "  </thead>\n",
       "  <tbody>\n",
       "    <tr>\n",
       "      <th>0</th>\n",
       "      <td>2022-03-24</td>\n",
       "      <td>REGIONSHOSPITALET GØDSTRUP</td>\n",
       "      <td>MEDICINSK AFDELING - RHG</td>\n",
       "      <td>309</td>\n",
       "    </tr>\n",
       "    <tr>\n",
       "      <th>1</th>\n",
       "      <td>2021-07-19</td>\n",
       "      <td>REGIONSHOSPITALET GØDSTRUP</td>\n",
       "      <td>URINVEJSKIRURGI - RHG</td>\n",
       "      <td>57</td>\n",
       "    </tr>\n",
       "    <tr>\n",
       "      <th>2</th>\n",
       "      <td>2020-08-06</td>\n",
       "      <td>REGIONSHOSPITALET GØDSTRUP</td>\n",
       "      <td>URINVEJSKIRURGI - RHG</td>\n",
       "      <td>85</td>\n",
       "    </tr>\n",
       "    <tr>\n",
       "      <th>3</th>\n",
       "      <td>2019-12-04</td>\n",
       "      <td>REGIONSHOSPITALET GØDSTRUP</td>\n",
       "      <td>URINVEJSKIRURGI - RHG</td>\n",
       "      <td>131</td>\n",
       "    </tr>\n",
       "    <tr>\n",
       "      <th>4</th>\n",
       "      <td>2023-12-10</td>\n",
       "      <td>REGIONSHOSPITALET GØDSTRUP</td>\n",
       "      <td>KVINDESYGDOMME OG FØDSLER - RHG</td>\n",
       "      <td>33</td>\n",
       "    </tr>\n",
       "  </tbody>\n",
       "</table>\n",
       "</div>"
      ],
      "text/plain": [
       "     Dato_Ind          Nuv_OrgMapSghTekst           Nuv_OrgMapOverAfdTekst  \\\n",
       "0  2022-03-24  REGIONSHOSPITALET GØDSTRUP         MEDICINSK AFDELING - RHG   \n",
       "1  2021-07-19  REGIONSHOSPITALET GØDSTRUP            URINVEJSKIRURGI - RHG   \n",
       "2  2020-08-06  REGIONSHOSPITALET GØDSTRUP            URINVEJSKIRURGI - RHG   \n",
       "3  2019-12-04  REGIONSHOSPITALET GØDSTRUP            URINVEJSKIRURGI - RHG   \n",
       "4  2023-12-10  REGIONSHOSPITALET GØDSTRUP  KVINDESYGDOMME OG FØDSLER - RHG   \n",
       "\n",
       "   Antal_Kontakter  \n",
       "0              309  \n",
       "1               57  \n",
       "2               85  \n",
       "3              131  \n",
       "4               33  "
      ]
     },
     "execution_count": 3,
     "metadata": {},
     "output_type": "execute_result"
    }
   ],
   "source": [
    "# Load number of patients in the departments\n",
    "patient_contact = pd.read_csv(\"./2024_05_13_Patientkontakter.csv\",sep = \";\")\n",
    "patient_contact.head()"
   ]
  },
  {
   "cell_type": "markdown",
   "metadata": {},
   "source": [
    "#### Add number of patients contacts at the department"
   ]
  },
  {
   "cell_type": "code",
   "execution_count": 5,
   "metadata": {
    "metadata": {}
   },
   "outputs": [],
   "source": [
    "# Convert date to timestamp and remove the date column\n",
    "patient_contact[\"Timestamp\"] = pd.to_datetime(patient_contact[\"Dato_Ind\"])\n",
    "patient_contact = patient_contact.drop([\"Dato_Ind\",\"Nuv_OrgMapSghTekst\"], axis = 1)"
   ]
  },
  {
   "cell_type": "code",
   "execution_count": 6,
   "metadata": {
    "metadata": {}
   },
   "outputs": [
    {
     "data": {
      "text/html": [
       "<div>\n",
       "<style scoped>\n",
       "    .dataframe tbody tr th:only-of-type {\n",
       "        vertical-align: middle;\n",
       "    }\n",
       "\n",
       "    .dataframe tbody tr th {\n",
       "        vertical-align: top;\n",
       "    }\n",
       "\n",
       "    .dataframe thead th {\n",
       "        text-align: right;\n",
       "    }\n",
       "</style>\n",
       "<table border=\"1\" class=\"dataframe\">\n",
       "  <thead>\n",
       "    <tr style=\"text-align: right;\">\n",
       "      <th></th>\n",
       "      <th>Nuv_OrgMapOverAfdTekst</th>\n",
       "      <th>Antal_Kontakter</th>\n",
       "      <th>Timestamp</th>\n",
       "    </tr>\n",
       "  </thead>\n",
       "  <tbody>\n",
       "    <tr>\n",
       "      <th>0</th>\n",
       "      <td>MEDICINSK AFDELING - RHG</td>\n",
       "      <td>309</td>\n",
       "      <td>2022-03-24</td>\n",
       "    </tr>\n",
       "    <tr>\n",
       "      <th>1</th>\n",
       "      <td>URINVEJSKIRURGI - RHG</td>\n",
       "      <td>57</td>\n",
       "      <td>2021-07-19</td>\n",
       "    </tr>\n",
       "    <tr>\n",
       "      <th>2</th>\n",
       "      <td>URINVEJSKIRURGI - RHG</td>\n",
       "      <td>85</td>\n",
       "      <td>2020-08-06</td>\n",
       "    </tr>\n",
       "    <tr>\n",
       "      <th>3</th>\n",
       "      <td>URINVEJSKIRURGI - RHG</td>\n",
       "      <td>131</td>\n",
       "      <td>2019-12-04</td>\n",
       "    </tr>\n",
       "    <tr>\n",
       "      <th>4</th>\n",
       "      <td>KVINDESYGDOMME OG FØDSLER - RHG</td>\n",
       "      <td>33</td>\n",
       "      <td>2023-12-10</td>\n",
       "    </tr>\n",
       "  </tbody>\n",
       "</table>\n",
       "</div>"
      ],
      "text/plain": [
       "            Nuv_OrgMapOverAfdTekst  Antal_Kontakter  Timestamp\n",
       "0         MEDICINSK AFDELING - RHG              309 2022-03-24\n",
       "1            URINVEJSKIRURGI - RHG               57 2021-07-19\n",
       "2            URINVEJSKIRURGI - RHG               85 2020-08-06\n",
       "3            URINVEJSKIRURGI - RHG              131 2019-12-04\n",
       "4  KVINDESYGDOMME OG FØDSLER - RHG               33 2023-12-10"
      ]
     },
     "execution_count": 6,
     "metadata": {},
     "output_type": "execute_result"
    }
   ],
   "source": [
    "patient_contact.head()"
   ]
  },
  {
   "cell_type": "code",
   "execution_count": 7,
   "metadata": {
    "metadata": {}
   },
   "outputs": [],
   "source": [
    "# Remove \"- RHG\" from the column \"Nuv_OrgMapOverAfdTekst\" and make to lowercase\n",
    "patient_contact[\"Nuv_OrgMapOverAfdTekst\"] = patient_contact[\"Nuv_OrgMapOverAfdTekst\"].str.replace(r' - RHG', '', regex=True).str.lower()"
   ]
  },
  {
   "cell_type": "code",
   "execution_count": 8,
   "metadata": {
    "metadata": {}
   },
   "outputs": [],
   "source": [
    "# Rename column\n",
    "patient_contact = patient_contact.rename(columns={\"Nuv_OrgMapOverAfdTekst\": \"Afdelinger\"})\n",
    "data = data.rename(columns={\"LoenafdelingNiveau2Tekst\":\"Afdelinger\"})"
   ]
  },
  {
   "cell_type": "code",
   "execution_count": 11,
   "metadata": {
    "metadata": {}
   },
   "outputs": [],
   "source": [
    "# Convert values in department columns\n",
    "def replace_department(idx):\n",
    "    afd = data[\"Afdelinger\"][idx].lower()\n",
    "    #print(afd)\n",
    "    for j in patient_contact[\"Afdelinger\"].unique():\n",
    "        if afd.startswith(j)==True:\n",
    "            #print(j)\n",
    "            val = j\n",
    "            break\n",
    "        else: val = afd\n",
    "    return(val)"
   ]
  },
  {
   "cell_type": "code",
   "execution_count": null,
   "metadata": {
    "metadata": {}
   },
   "outputs": [],
   "source": [
    "# Convert strings to match pattern\n",
    "for i in range(len(data[\"Afdelinger\"])):   \n",
    "    j = replace_department(i)\n",
    "    data.loc[i,\"Afdelinger\"] = j"
   ]
  },
  {
   "cell_type": "code",
   "execution_count": 19,
   "metadata": {
    "metadata": {}
   },
   "outputs": [],
   "source": [
    "# Convert to datetime object\n",
    "data[\"Timestamp\"] = pd.to_datetime(data[\"Timestamp\"])"
   ]
  },
  {
   "cell_type": "code",
   "execution_count": 20,
   "metadata": {
    "metadata": {}
   },
   "outputs": [],
   "source": [
    "# Merge dfs\n",
    "merged_df = pd.merge(data, patient_contact, on=['Afdelinger', 'Timestamp'], how = \"left\")\n",
    "merged_df.head()"
   ]
  },
  {
   "cell_type": "code",
   "execution_count": 24,
   "metadata": {
    "metadata": {}
   },
   "outputs": [
    {
     "name": "stdout",
     "output_type": "stream",
     "text": [
      "42050\n"
     ]
    }
   ],
   "source": [
    "# Check NAs and replace with 0\n",
    "print(merged_df[\"Antal_Kontakter\"].isna().sum())\n",
    "\n",
    "merged_df[\"Antal_Kontakter\"] = merged_df[\"Antal_Kontakter\"].fillna(0)\n"
   ]
  },
  {
   "cell_type": "code",
   "execution_count": 26,
   "metadata": {
    "metadata": {}
   },
   "outputs": [],
   "source": [
    "# Write csv\n",
    "merged_df.to_csv(\"/work/Exam/data_w_patients.csv\")"
   ]
  }
 ],
 "metadata": {
  "kernelspec": {
   "display_name": "venv_dat_sci24",
   "language": "python",
   "name": "python3"
  },
  "language_info": {
   "codemirror_mode": {
    "name": "ipython",
    "version": 3
   },
   "file_extension": ".py",
   "mimetype": "text/x-python",
   "name": "python",
   "nbconvert_exporter": "python",
   "pygments_lexer": "ipython3",
   "version": "3.12.3"
  }
 },
 "nbformat": 4,
 "nbformat_minor": 2
}
